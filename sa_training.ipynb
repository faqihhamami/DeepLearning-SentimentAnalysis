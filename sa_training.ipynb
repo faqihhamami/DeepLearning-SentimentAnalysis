{
 "cells": [
  {
   "cell_type": "code",
   "execution_count": 1,
   "metadata": {},
   "outputs": [
    {
     "name": "stderr",
     "output_type": "stream",
     "text": [
      "Using TensorFlow backend.\n"
     ]
    },
    {
     "name": "stdout",
     "output_type": "stream",
     "text": [
      "(3284, 72) (3284, 2)\n",
      "(822, 72) (822, 2)\n"
     ]
    },
    {
     "name": "stderr",
     "output_type": "stream",
     "text": [
      "/home/hadoop/miniconda/lib/python3.6/site-packages/ipykernel_launcher.py:39: UserWarning: Update your `LSTM` call to the Keras 2 API: `LSTM(128, dropout=0.2, recurrent_dropout=0.2)`\n"
     ]
    },
    {
     "name": "stdout",
     "output_type": "stream",
     "text": [
      "_________________________________________________________________\n",
      "Layer (type)                 Output Shape              Param #   \n",
      "=================================================================\n",
      "embedding_1 (Embedding)      (None, 72, 256)           2560000   \n",
      "_________________________________________________________________\n",
      "spatial_dropout1d_1 (Spatial (None, 72, 256)           0         \n",
      "_________________________________________________________________\n",
      "bidirectional_1 (Bidirection (None, 256)               394240    \n",
      "_________________________________________________________________\n",
      "dense_1 (Dense)              (None, 128)               32896     \n",
      "_________________________________________________________________\n",
      "dense_2 (Dense)              (None, 2)                 258       \n",
      "=================================================================\n",
      "Total params: 2,987,394\n",
      "Trainable params: 2,987,394\n",
      "Non-trainable params: 0\n",
      "_________________________________________________________________\n",
      "None\n",
      "Train on 2627 samples, validate on 657 samples\n",
      "Epoch 1/10\n",
      " - 27s - loss: 0.6913 - acc: 0.5196 - val_loss: 0.6880 - val_acc: 0.5099\n",
      "\n",
      "Epoch 00001: val_acc improved from -inf to 0.50989, saving model to modeltf12.h5\n",
      "Epoch 2/10\n",
      " - 33s - loss: 0.6794 - acc: 0.6102 - val_loss: 0.6693 - val_acc: 0.7367\n",
      "\n",
      "Epoch 00002: val_acc improved from 0.50989 to 0.73668, saving model to modeltf12.h5\n",
      "Epoch 3/10\n",
      " - 33s - loss: 0.6327 - acc: 0.7069 - val_loss: 0.5891 - val_acc: 0.7093\n",
      "\n",
      "Epoch 00003: val_acc did not improve from 0.73668\n",
      "Epoch 4/10\n",
      " - 33s - loss: 0.5205 - acc: 0.7716 - val_loss: 0.4908 - val_acc: 0.7884\n",
      "\n",
      "Epoch 00004: val_acc improved from 0.73668 to 0.78843, saving model to modeltf12.h5\n",
      "Epoch 5/10\n",
      " - 36s - loss: 0.4135 - acc: 0.8253 - val_loss: 0.4345 - val_acc: 0.8006\n",
      "\n",
      "Epoch 00005: val_acc improved from 0.78843 to 0.80061, saving model to modeltf12.h5\n",
      "Epoch 6/10\n",
      " - 34s - loss: 0.3402 - acc: 0.8645 - val_loss: 0.4174 - val_acc: 0.8265\n",
      "\n",
      "Epoch 00006: val_acc improved from 0.80061 to 0.82648, saving model to modeltf12.h5\n",
      "Epoch 7/10\n",
      " - 41s - loss: 0.2856 - acc: 0.8904 - val_loss: 0.4040 - val_acc: 0.8265\n",
      "\n",
      "Epoch 00007: val_acc did not improve from 0.82648\n",
      "Epoch 8/10\n",
      " - 39s - loss: 0.2435 - acc: 0.9018 - val_loss: 0.3868 - val_acc: 0.8326\n",
      "\n",
      "Epoch 00008: val_acc improved from 0.82648 to 0.83257, saving model to modeltf12.h5\n",
      "Epoch 9/10\n",
      " - 43s - loss: 0.2037 - acc: 0.9262 - val_loss: 0.3947 - val_acc: 0.8447\n",
      "\n",
      "Epoch 00009: val_acc improved from 0.83257 to 0.84475, saving model to modeltf12.h5\n",
      "Epoch 10/10\n",
      " - 43s - loss: 0.1797 - acc: 0.9357 - val_loss: 0.3863 - val_acc: 0.8463\n",
      "\n",
      "Epoch 00010: val_acc improved from 0.84475 to 0.84627, saving model to modeltf12.h5\n"
     ]
    }
   ],
   "source": [
    "import numpy as np # linear algebra\n",
    "import pandas as pd # data processing, CSV file I/O (e.g. pd.read_csv)\n",
    "import pickle\n",
    "from sklearn.feature_extraction.text import CountVectorizer\n",
    "from keras.preprocessing.text import Tokenizer\n",
    "from keras.preprocessing.sequence import pad_sequences\n",
    "from keras.models import Sequential\n",
    "from keras.layers import Dense, Embedding, LSTM, SpatialDropout1D, Dropout, Bidirectional\n",
    "from keras.optimizers import Adam\n",
    "from sklearn.model_selection import train_test_split\n",
    "from keras.utils.np_utils import to_categorical\n",
    "from keras.callbacks import ModelCheckpoint, TensorBoard\n",
    "from keras import regularizers\n",
    "\n",
    "\n",
    "with open('aggdata.p', 'rb') as handle:\n",
    "        alldata = pickle.load(handle)\n",
    "sent = [row[0] for row in alldata]\n",
    "labels = [row[1] for row in alldata]    \n",
    "#alldata.close()    \n",
    "max_features = 10000\n",
    "tokenizer = Tokenizer(num_words=max_features, split=' ')\n",
    "tokenizer.fit_on_texts(sent)\n",
    "X = tokenizer.texts_to_sequences(sent)\n",
    "X = pad_sequences(X)\n",
    "\n",
    "Y = pd.get_dummies(labels)\n",
    "X_train, X_test, Y_train, Y_test = train_test_split(X,Y, test_size = 0.2, random_state = 42)\n",
    "print(X_train.shape,Y_train.shape)\n",
    "print(X_test.shape,Y_test.shape)\n",
    "\n",
    "\n",
    "embed_dim = 256\n",
    "lstm_out = 128\n",
    "\n",
    "model = Sequential()\n",
    "model.add(Embedding(max_features, embed_dim,input_length = X.shape[1]))\n",
    "model.add(SpatialDropout1D(0.5))\n",
    "model.add(Bidirectional( LSTM(lstm_out, dropout_U = 0.2, dropout_W = 0.2)))\n",
    "model.add(Dense(128,activation='tanh'))\n",
    "model.add(Dense(2,activation='softmax'))\n",
    "model.compile(loss = 'categorical_crossentropy', optimizer=Adam(lr=0.0001,decay=1e-6),metrics = ['accuracy'])\n",
    "batch_size = 32\n",
    "print(model.summary())\n",
    "\n",
    "checkpointer = ModelCheckpoint(filepath=\"modeltf12.h5\",\n",
    "                               verbose=1,\n",
    "                               save_best_only=True,\n",
    "                               monitor='val_acc',\n",
    "                               mode='max')\n",
    "tensorboard = TensorBoard(log_dir='./logs',\n",
    "                          histogram_freq=0,\n",
    "                          write_graph=True,\n",
    "                          write_images=True)\n",
    "model.fit(X_train, Y_train, epochs = 10, batch_size=batch_size, verbose = 2, validation_split=0.2, callbacks=[checkpointer,tensorboard])\n",
    "model.save('modeltf2.10.h5')\n"
   ]
  },
  {
   "cell_type": "code",
   "execution_count": null,
   "metadata": {},
   "outputs": [],
   "source": []
  }
 ],
 "metadata": {
  "kernelspec": {
   "display_name": "Python 3",
   "language": "python",
   "name": "python3"
  },
  "language_info": {
   "codemirror_mode": {
    "name": "ipython",
    "version": 3
   },
   "file_extension": ".py",
   "mimetype": "text/x-python",
   "name": "python",
   "nbconvert_exporter": "python",
   "pygments_lexer": "ipython3",
   "version": "3.6.8"
  }
 },
 "nbformat": 4,
 "nbformat_minor": 2
}
